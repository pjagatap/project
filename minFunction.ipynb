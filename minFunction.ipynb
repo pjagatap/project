{
  "nbformat": 4,
  "nbformat_minor": 0,
  "metadata": {
    "colab": {
      "name": "Untitled0.ipynb",
      "provenance": [],
      "authorship_tag": "ABX9TyPipqblSaS/lrx9iVqOwS3m",
      "include_colab_link": true
    },
    "kernelspec": {
      "name": "python3",
      "display_name": "Python 3"
    }
  },
  "cells": [
    {
      "cell_type": "markdown",
      "metadata": {
        "id": "view-in-github",
        "colab_type": "text"
      },
      "source": [
        "<a href=\"https://colab.research.google.com/github/pjagatap/project/blob/master/minFunction.ipynb\" target=\"_parent\"><img src=\"https://colab.research.google.com/assets/colab-badge.svg\" alt=\"Open In Colab\"/></a>"
      ]
    },
    {
      "cell_type": "code",
      "metadata": {
        "colab": {
          "base_uri": "https://localhost:8080/"
        },
        "id": "C-arjss93q7q",
        "outputId": "8161c217-3f1d-4259-af30-89df89bb35e2"
      },
      "source": [
        "\n",
        "def mini(*args):\n",
        "  minimum = args[0]\n",
        "  for i in args:\n",
        "    #print(i)\n",
        "    if i <= minimum:\n",
        "      minimum = i\n",
        "  return minimum\n",
        "\n",
        "mini(10,2,4,0.6,8)"
      ],
      "execution_count": 22,
      "outputs": [
        {
          "output_type": "execute_result",
          "data": {
            "text/plain": [
              "0.6"
            ]
          },
          "metadata": {
            "tags": []
          },
          "execution_count": 22
        }
      ]
    }
  ]
}