{
 "cells": [
  {
   "cell_type": "code",
   "execution_count": 4,
   "metadata": {
    "collapsed": true
   },
   "outputs": [
    {
     "name": "stdout",
     "output_type": "stream",
     "text": [
      "Enter the principal outstanding: 937000\n",
      "Rate of interest: 7.8\n",
      "Enter number of months remaining: 104\n",
      "Your monthly EMI is: 12423.542741908925\n",
      "Amortization\n",
      "103, \"your interest is:\"  6090.50, \"your principal is:\"  6333.04\n",
      "102, \"your interest is:\"  6049.34, \"your principal is:\"  6374.21\n",
      "101, \"your interest is:\"  6007.90, \"your principal is:\"  6415.64\n",
      "100, \"your interest is:\"  5966.20, \"your principal is:\"  6457.34\n",
      " 99, \"your interest is:\"  5924.23, \"your principal is:\"  6499.31\n",
      " 98, \"your interest is:\"  5881.98, \"your principal is:\"  6541.56\n",
      " 97, \"your interest is:\"  5839.46, \"your principal is:\"  6584.08\n",
      " 96, \"your interest is:\"  5796.67, \"your principal is:\"  6626.88\n",
      " 95, \"your interest is:\"  5753.59, \"your principal is:\"  6669.95\n",
      " 94, \"your interest is:\"  5710.24, \"your principal is:\"  6713.31\n",
      " 93, \"your interest is:\"  5666.60, \"your principal is:\"  6756.94\n",
      " 92, \"your interest is:\"  5622.68, \"your principal is:\"  6800.86\n",
      " 91, \"your interest is:\"  5578.47, \"your principal is:\"  6845.07\n",
      " 90, \"your interest is:\"  5533.98, \"your principal is:\"  6889.56\n",
      " 89, \"your interest is:\"  5489.20, \"your principal is:\"  6934.34\n",
      " 88, \"your interest is:\"  5444.13, \"your principal is:\"  6979.42\n",
      " 87, \"your interest is:\"  5398.76, \"your principal is:\"  7024.78\n",
      " 86, \"your interest is:\"  5353.10, \"your principal is:\"  7070.44\n",
      " 85, \"your interest is:\"  5307.14, \"your principal is:\"  7116.40\n",
      " 84, \"your interest is:\"  5260.88, \"your principal is:\"  7162.66\n",
      " 83, \"your interest is:\"  5214.33, \"your principal is:\"  7209.22\n",
      " 82, \"your interest is:\"  5167.47, \"your principal is:\"  7256.08\n",
      " 81, \"your interest is:\"  5120.30, \"your principal is:\"  7303.24\n",
      " 80, \"your interest is:\"  5072.83, \"your principal is:\"  7350.71\n",
      " 79, \"your interest is:\"  5025.05, \"your principal is:\"  7398.49\n",
      " 78, \"your interest is:\"  4976.96, \"your principal is:\"  7446.58\n",
      " 77, \"your interest is:\"  4928.56, \"your principal is:\"  7494.98\n",
      " 76, \"your interest is:\"  4879.84, \"your principal is:\"  7543.70\n",
      " 75, \"your interest is:\"  4830.81, \"your principal is:\"  7592.73\n",
      " 74, \"your interest is:\"  4781.46, \"your principal is:\"  7642.09\n",
      " 73, \"your interest is:\"  4731.78, \"your principal is:\"  7691.76\n",
      " 72, \"your interest is:\"  4681.79, \"your principal is:\"  7741.76\n",
      " 71, \"your interest is:\"  4631.46, \"your principal is:\"  7792.08\n",
      " 70, \"your interest is:\"  4580.82, \"your principal is:\"  7842.73\n",
      " 69, \"your interest is:\"  4529.84, \"your principal is:\"  7893.71\n",
      " 68, \"your interest is:\"  4478.53, \"your principal is:\"  7945.01\n",
      " 67, \"your interest is:\"  4426.89, \"your principal is:\"  7996.66\n",
      " 66, \"your interest is:\"  4374.91, \"your principal is:\"  8048.64\n",
      " 65, \"your interest is:\"  4322.59, \"your principal is:\"  8100.95\n",
      " 64, \"your interest is:\"  4269.94, \"your principal is:\"  8153.61\n",
      " 63, \"your interest is:\"  4216.94, \"your principal is:\"  8206.61\n",
      " 62, \"your interest is:\"  4163.59, \"your principal is:\"  8259.95\n",
      " 61, \"your interest is:\"  4109.90, \"your principal is:\"  8313.64\n",
      " 60, \"your interest is:\"  4055.87, \"your principal is:\"  8367.68\n",
      " 59, \"your interest is:\"  4001.48, \"your principal is:\"  8422.07\n",
      " 58, \"your interest is:\"  3946.73, \"your principal is:\"  8476.81\n",
      " 57, \"your interest is:\"  3891.63, \"your principal is:\"  8531.91\n",
      " 56, \"your interest is:\"  3836.18, \"your principal is:\"  8587.37\n",
      " 55, \"your interest is:\"  3780.36, \"your principal is:\"  8643.19\n",
      " 54, \"your interest is:\"  3724.18, \"your principal is:\"  8699.37\n",
      " 53, \"your interest is:\"  3667.63, \"your principal is:\"  8755.91\n",
      " 52, \"your interest is:\"  3610.72, \"your principal is:\"  8812.83\n",
      " 51, \"your interest is:\"  3553.43, \"your principal is:\"  8870.11\n",
      " 50, \"your interest is:\"  3495.78, \"your principal is:\"  8927.76\n",
      " 49, \"your interest is:\"  3437.75, \"your principal is:\"  8985.79\n",
      " 48, \"your interest is:\"  3379.34, \"your principal is:\"  9044.20\n",
      " 47, \"your interest is:\"  3320.55, \"your principal is:\"  9102.99\n",
      " 46, \"your interest is:\"  3261.38, \"your principal is:\"  9162.16\n",
      " 45, \"your interest is:\"  3201.83, \"your principal is:\"  9221.71\n",
      " 44, \"your interest is:\"  3141.89, \"your principal is:\"  9281.65\n",
      " 43, \"your interest is:\"  3081.56, \"your principal is:\"  9341.99\n",
      " 42, \"your interest is:\"  3020.83, \"your principal is:\"  9402.71\n",
      " 41, \"your interest is:\"  2959.72, \"your principal is:\"  9463.83\n",
      " 40, \"your interest is:\"  2898.20, \"your principal is:\"  9525.34\n",
      " 39, \"your interest is:\"  2836.29, \"your principal is:\"  9587.26\n",
      " 38, \"your interest is:\"  2773.97, \"your principal is:\"  9649.57\n",
      " 37, \"your interest is:\"  2711.25, \"your principal is:\"  9712.29\n",
      " 36, \"your interest is:\"  2648.12, \"your principal is:\"  9775.42\n",
      " 35, \"your interest is:\"  2584.58, \"your principal is:\"  9838.96\n",
      " 34, \"your interest is:\"  2520.62, \"your principal is:\"  9902.92\n",
      " 33, \"your interest is:\"  2456.26, \"your principal is:\"  9967.29\n",
      " 32, \"your interest is:\"  2391.47, \"your principal is:\" 10032.07\n",
      " 31, \"your interest is:\"  2326.26, \"your principal is:\" 10097.28\n",
      " 30, \"your interest is:\"  2260.63, \"your principal is:\" 10162.92\n",
      " 29, \"your interest is:\"  2194.57, \"your principal is:\" 10228.97\n",
      " 28, \"your interest is:\"  2128.08, \"your principal is:\" 10295.46\n",
      " 27, \"your interest is:\"  2061.16, \"your principal is:\" 10362.38\n",
      " 26, \"your interest is:\"  1993.80, \"your principal is:\" 10429.74\n",
      " 25, \"your interest is:\"  1926.01, \"your principal is:\" 10497.53\n",
      " 24, \"your interest is:\"  1857.78, \"your principal is:\" 10565.77\n",
      " 23, \"your interest is:\"  1789.10, \"your principal is:\" 10634.44\n",
      " 22, \"your interest is:\"  1719.98, \"your principal is:\" 10703.57\n",
      " 21, \"your interest is:\"  1650.40, \"your principal is:\" 10773.14\n",
      " 20, \"your interest is:\"  1580.38, \"your principal is:\" 10843.17\n",
      " 19, \"your interest is:\"  1509.90, \"your principal is:\" 10913.65\n",
      " 18, \"your interest is:\"  1438.96, \"your principal is:\" 10984.58\n",
      " 17, \"your interest is:\"  1367.56, \"your principal is:\" 11055.98\n",
      " 16, \"your interest is:\"  1295.69, \"your principal is:\" 11127.85\n",
      " 15, \"your interest is:\"  1223.36, \"your principal is:\" 11200.18\n",
      " 14, \"your interest is:\"  1150.56, \"your principal is:\" 11272.98\n",
      " 13, \"your interest is:\"  1077.29, \"your principal is:\" 11346.26\n",
      " 12, \"your interest is:\"  1003.54, \"your principal is:\" 11420.01\n",
      " 11, \"your interest is:\"   929.31, \"your principal is:\" 11494.24\n",
      " 10, \"your interest is:\"   854.59, \"your principal is:\" 11568.95\n",
      "  9, \"your interest is:\"   779.40, \"your principal is:\" 11644.15\n",
      "  8, \"your interest is:\"   703.71, \"your principal is:\" 11719.83\n",
      "  7, \"your interest is:\"   627.53, \"your principal is:\" 11796.01\n",
      "  6, \"your interest is:\"   550.86, \"your principal is:\" 11872.69\n",
      "  5, \"your interest is:\"   473.68, \"your principal is:\" 11949.86\n",
      "  4, \"your interest is:\"   396.01, \"your principal is:\" 12027.53\n",
      "  3, \"your interest is:\"   317.83, \"your principal is:\" 12105.71\n",
      "  2, \"your interest is:\"   239.14, \"your principal is:\" 12184.40\n",
      "  1, \"your interest is:\"   159.94, \"your principal is:\" 12263.60\n",
      "Total interest payable 354968.21\n"
     ]
    }
   ],
   "source": [
    "p = float (input('Enter the principal outstanding: '))\n",
    "R = float (input('Rate of interest: '))\n",
    "N = float (input('Enter number of months remaining: '))\n",
    "R=R/(12*100)\n",
    "E = (p*R*((1+R)**N))/((1+R)**(N)-1)\n",
    "total_interest = 0\n",
    "print ('Your monthly EMI is:', E)\n",
    "print (\"Amortization\")\n",
    "#Amortization schedule.\n",
    "while (N>1):\n",
    "    N-=1\n",
    "    i=p*R\n",
    "    total_interest += i\n",
    "    pm=E-i\n",
    "    print(f'{int(N):>3}, \"your interest is:\" {round(i,2):>8.2f}, \"your principal is:\" {round(pm,2):>8.2f}')\n",
    "    p-=pm\n",
    "print(f'Total interest payable {total_interest:>8.2f}')\n"
   ]
  },
  {
   "cell_type": "code",
   "execution_count": 13,
   "metadata": {
    "collapsed": true
   },
   "outputs": [
    {
     "name": "stdout",
     "output_type": "stream",
     "text": [
      "11 13 15 17 19 "
     ]
    }
   ],
   "source": [
    "def sequence(x):\n",
    "    y = 0\n",
    "    while y <= 9:\n",
    "        y += 1\n",
    "        x += 1\n",
    "        if y%2 == 0:\n",
    "            continue\n",
    "        print(f'{x}', end = ' ', sep = \"*\")\n",
    "    \n",
    "\n",
    "sequence(10)"
   ]
  },
  {
   "cell_type": "code",
   "execution_count": 117,
   "metadata": {},
   "outputs": [
    {
     "name": "stdout",
     "output_type": "stream",
     "text": [
      "p,r,a,s,h,a,n,t,h,"
     ]
    }
   ],
   "source": [
    "for i in \"prashanth\":\n",
    "    print(i, end=',')\n",
    "\n",
    "    "
   ]
  },
  {
   "cell_type": "code",
   "execution_count": 1,
   "metadata": {},
   "outputs": [
    {
     "name": "stdout",
     "output_type": "stream",
     "text": [
      "1*2*3*4*5\n"
     ]
    }
   ],
   "source": [
    "print(1,2,3,4,5, sep=\"*\")"
   ]
  },
  {
   "cell_type": "code",
   "execution_count": 1,
   "metadata": {},
   "outputs": [
    {
     "name": "stdout",
     "output_type": "stream",
     "text": [
      "0,2,4,6,8,10,12,14,16,18,20,22,24,26,28,30,32,34,36,38,40,42,44,46,48,50,52,54,56,58,60,62,64,66,68,70,72,74,76,78,80,82,84,86,88,90,92,94,96,98,"
     ]
    }
   ],
   "source": [
    "for number in range(0,100,2):\n",
    "    print(number, end = \",\")"
   ]
  },
  {
   "cell_type": "code",
   "execution_count": 1,
   "metadata": {},
   "outputs": [
    {
     "name": "stdout",
     "output_type": "stream",
     "text": [
      "1.710\n"
     ]
    }
   ],
   "source": [
    "def n_root(x, n):\n",
    "    x = x ** (1/n)\n",
    "    return (x)\n",
    "\n",
    "print(f'{float(n_root(5, 3)):>4.3f}')"
   ]
  },
  {
   "cell_type": "code",
   "execution_count": 2,
   "metadata": {},
   "outputs": [
    {
     "name": "stdout",
     "output_type": "stream",
     "text": [
      "The 22nd root of 1936 is 1.4106029533130784\n"
     ]
    }
   ],
   "source": [
    "def ordinal_suffix(x): # to get the suffix of the ordinal value\n",
    "  s = str(x)\n",
    "  if s.endswith('11'):\n",
    "    return 'th'\n",
    "  elif s.endswith('12'):\n",
    "    return \"th\"\n",
    "  elif s.endswith('13'):\n",
    "    return 'th'\n",
    "  elif s.endswith('1'):\n",
    "    return 'st'\n",
    "  elif s.endswith('2'):\n",
    "    return 'nd'\n",
    "  elif s.endswith('3'):\n",
    "    return 'rd'\n",
    "  return 'th'\n",
    "\n",
    "def ordinal(value):  # to preffix the ordinal with the suffix\n",
    "  return str(value) + ordinal_suffix(value)\n",
    "\n",
    "\n",
    "def nth_root(radicand, n):  # Finding the nth Roor of the Radicand\n",
    "  root = radicand ** (1/n)\n",
    "  message = 'The ' + ordinal(n) + ' root of ' + str(radicand) + ' is ' + str(root)\n",
    "  return (message)\n",
    "\n",
    "s = nth_root(1936, 22)\n",
    "\n",
    "print(s)"
   ]
  }
 ],
 "metadata": {
  "kernelspec": {
   "display_name": "Python 3",
   "language": "python",
   "name": "python3"
  },
  "language_info": {
   "codemirror_mode": {
    "name": "ipython",
    "version": 3
   },
   "file_extension": ".py",
   "mimetype": "text/x-python",
   "name": "python",
   "nbconvert_exporter": "python",
   "pygments_lexer": "ipython3",
   "version": "3.8.3"
  }
 },
 "nbformat": 4,
 "nbformat_minor": 4
}
