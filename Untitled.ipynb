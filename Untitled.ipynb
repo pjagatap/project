{
 "cells": [
  {
   "cell_type": "code",
   "execution_count": 19,
   "metadata": {},
   "outputs": [
    {
     "name": "stdout",
     "output_type": "stream",
     "text": [
      "Enter the principal outstanding: 932000\n",
      "Rate of interest: 7.8\n",
      "Enter number of months remaining: 104\n",
      "Your monthly EMI is: 12357.248490351245\n",
      "Amortization\n",
      "103, \"your interest is:\"  6058.00, \"your principal is:\"  6299.25\n",
      "102, \"your interest is:\"  6017.05, \"your principal is:\"  6340.19\n",
      "101, \"your interest is:\"  5975.84, \"your principal is:\"  6381.40\n",
      "100, \"your interest is:\"  5934.36, \"your principal is:\"  6422.88\n",
      " 99, \"your interest is:\"  5892.62, \"your principal is:\"  6464.63\n",
      " 98, \"your interest is:\"  5850.60, \"your principal is:\"  6506.65\n",
      " 97, \"your interest is:\"  5808.30, \"your principal is:\"  6548.95\n",
      " 96, \"your interest is:\"  5765.73, \"your principal is:\"  6591.51\n",
      " 95, \"your interest is:\"  5722.89, \"your principal is:\"  6634.36\n",
      " 94, \"your interest is:\"  5679.77, \"your principal is:\"  6677.48\n",
      " 93, \"your interest is:\"  5636.36, \"your principal is:\"  6720.89\n",
      " 92, \"your interest is:\"  5592.68, \"your principal is:\"  6764.57\n",
      " 91, \"your interest is:\"  5548.71, \"your principal is:\"  6808.54\n",
      " 90, \"your interest is:\"  5504.45, \"your principal is:\"  6852.80\n",
      " 89, \"your interest is:\"  5459.91, \"your principal is:\"  6897.34\n",
      " 88, \"your interest is:\"  5415.08, \"your principal is:\"  6942.17\n",
      " 87, \"your interest is:\"  5369.95, \"your principal is:\"  6987.30\n",
      " 86, \"your interest is:\"  5324.53, \"your principal is:\"  7032.71\n",
      " 85, \"your interest is:\"  5278.82, \"your principal is:\"  7078.43\n",
      " 84, \"your interest is:\"  5232.81, \"your principal is:\"  7124.44\n",
      " 83, \"your interest is:\"  5186.50, \"your principal is:\"  7170.75\n",
      " 82, \"your interest is:\"  5139.89, \"your principal is:\"  7217.36\n",
      " 81, \"your interest is:\"  5092.98, \"your principal is:\"  7264.27\n",
      " 80, \"your interest is:\"  5045.76, \"your principal is:\"  7311.49\n",
      " 79, \"your interest is:\"  4998.24, \"your principal is:\"  7359.01\n",
      " 78, \"your interest is:\"  4950.40, \"your principal is:\"  7406.84\n",
      " 77, \"your interest is:\"  4902.26, \"your principal is:\"  7454.99\n",
      " 76, \"your interest is:\"  4853.80, \"your principal is:\"  7503.45\n",
      " 75, \"your interest is:\"  4805.03, \"your principal is:\"  7552.22\n",
      " 74, \"your interest is:\"  4755.94, \"your principal is:\"  7601.31\n",
      " 73, \"your interest is:\"  4706.53, \"your principal is:\"  7650.72\n",
      " 72, \"your interest is:\"  4656.80, \"your principal is:\"  7700.45\n",
      " 71, \"your interest is:\"  4606.75, \"your principal is:\"  7750.50\n",
      " 70, \"your interest is:\"  4556.37, \"your principal is:\"  7800.88\n",
      " 69, \"your interest is:\"  4505.67, \"your principal is:\"  7851.58\n",
      " 68, \"your interest is:\"  4454.63, \"your principal is:\"  7902.62\n",
      " 67, \"your interest is:\"  4403.26, \"your principal is:\"  7953.99\n",
      " 66, \"your interest is:\"  4351.56, \"your principal is:\"  8005.69\n",
      " 65, \"your interest is:\"  4299.53, \"your principal is:\"  8057.72\n",
      " 64, \"your interest is:\"  4247.15, \"your principal is:\"  8110.10\n",
      " 63, \"your interest is:\"  4194.43, \"your principal is:\"  8162.81\n",
      " 62, \"your interest is:\"  4141.38, \"your principal is:\"  8215.87\n",
      " 61, \"your interest is:\"  4087.97, \"your principal is:\"  8269.28\n",
      " 60, \"your interest is:\"  4034.22, \"your principal is:\"  8323.03\n",
      " 59, \"your interest is:\"  3980.12, \"your principal is:\"  8377.13\n",
      " 58, \"your interest is:\"  3925.67, \"your principal is:\"  8431.58\n",
      " 57, \"your interest is:\"  3870.87, \"your principal is:\"  8486.38\n",
      " 56, \"your interest is:\"  3815.70, \"your principal is:\"  8541.54\n",
      " 55, \"your interest is:\"  3760.18, \"your principal is:\"  8597.06\n",
      " 54, \"your interest is:\"  3704.30, \"your principal is:\"  8652.94\n",
      " 53, \"your interest is:\"  3648.06, \"your principal is:\"  8709.19\n",
      " 52, \"your interest is:\"  3591.45, \"your principal is:\"  8765.80\n",
      " 51, \"your interest is:\"  3534.47, \"your principal is:\"  8822.78\n",
      " 50, \"your interest is:\"  3477.12, \"your principal is:\"  8880.12\n",
      " 49, \"your interest is:\"  3419.40, \"your principal is:\"  8937.84\n",
      " 48, \"your interest is:\"  3361.31, \"your principal is:\"  8995.94\n",
      " 47, \"your interest is:\"  3302.83, \"your principal is:\"  9054.41\n",
      " 46, \"your interest is:\"  3243.98, \"your principal is:\"  9113.27\n",
      " 45, \"your interest is:\"  3184.74, \"your principal is:\"  9172.50\n",
      " 44, \"your interest is:\"  3125.12, \"your principal is:\"  9232.13\n",
      " 43, \"your interest is:\"  3065.11, \"your principal is:\"  9292.13\n",
      " 42, \"your interest is:\"  3004.71, \"your principal is:\"  9352.53\n",
      " 41, \"your interest is:\"  2943.92, \"your principal is:\"  9413.32\n",
      " 40, \"your interest is:\"  2882.74, \"your principal is:\"  9474.51\n",
      " 39, \"your interest is:\"  2821.15, \"your principal is:\"  9536.10\n",
      " 38, \"your interest is:\"  2759.17, \"your principal is:\"  9598.08\n",
      " 37, \"your interest is:\"  2696.78, \"your principal is:\"  9660.47\n",
      " 36, \"your interest is:\"  2633.99, \"your principal is:\"  9723.26\n",
      " 35, \"your interest is:\"  2570.79, \"your principal is:\"  9786.46\n",
      " 34, \"your interest is:\"  2507.17, \"your principal is:\"  9850.07\n",
      " 33, \"your interest is:\"  2443.15, \"your principal is:\"  9914.10\n",
      " 32, \"your interest is:\"  2378.71, \"your principal is:\"  9978.54\n",
      " 31, \"your interest is:\"  2313.85, \"your principal is:\" 10043.40\n",
      " 30, \"your interest is:\"  2248.56, \"your principal is:\" 10108.68\n",
      " 29, \"your interest is:\"  2182.86, \"your principal is:\" 10174.39\n",
      " 28, \"your interest is:\"  2116.72, \"your principal is:\" 10240.52\n",
      " 27, \"your interest is:\"  2050.16, \"your principal is:\" 10307.09\n",
      " 26, \"your interest is:\"  1983.16, \"your principal is:\" 10374.08\n",
      " 25, \"your interest is:\"  1915.73, \"your principal is:\" 10441.52\n",
      " 24, \"your interest is:\"  1847.86, \"your principal is:\" 10509.38\n",
      " 23, \"your interest is:\"  1779.55, \"your principal is:\" 10577.70\n",
      " 22, \"your interest is:\"  1710.80, \"your principal is:\" 10646.45\n",
      " 21, \"your interest is:\"  1641.60, \"your principal is:\" 10715.65\n",
      " 20, \"your interest is:\"  1571.94, \"your principal is:\" 10785.30\n",
      " 19, \"your interest is:\"  1501.84, \"your principal is:\" 10855.41\n",
      " 18, \"your interest is:\"  1431.28, \"your principal is:\" 10925.97\n",
      " 17, \"your interest is:\"  1360.26, \"your principal is:\" 10996.99\n",
      " 16, \"your interest is:\"  1288.78, \"your principal is:\" 11068.47\n",
      " 15, \"your interest is:\"  1216.83, \"your principal is:\" 11140.41\n",
      " 14, \"your interest is:\"  1144.42, \"your principal is:\" 11212.83\n",
      " 13, \"your interest is:\"  1071.54, \"your principal is:\" 11285.71\n",
      " 12, \"your interest is:\"   998.18, \"your principal is:\" 11359.07\n",
      " 11, \"your interest is:\"   924.35, \"your principal is:\" 11432.90\n",
      " 10, \"your interest is:\"   850.03, \"your principal is:\" 11507.21\n",
      "  9, \"your interest is:\"   775.24, \"your principal is:\" 11582.01\n",
      "  8, \"your interest is:\"   699.95, \"your principal is:\" 11657.29\n",
      "  7, \"your interest is:\"   624.18, \"your principal is:\" 11733.07\n",
      "  6, \"your interest is:\"   547.92, \"your principal is:\" 11809.33\n",
      "  5, \"your interest is:\"   471.16, \"your principal is:\" 11886.09\n",
      "  4, \"your interest is:\"   393.90, \"your principal is:\" 11963.35\n",
      "  3, \"your interest is:\"   316.13, \"your principal is:\" 12041.11\n",
      "  2, \"your interest is:\"   237.87, \"your principal is:\" 12119.38\n",
      "  1, \"your interest is:\"   159.09, \"your principal is:\" 12198.16\n",
      "Total interest payable 353074.04\n"
     ]
    }
   ],
   "source": [
    "p = float (input('Enter the principal outstanding: '))\n",
    "R = float (input('Rate of interest: '))\n",
    "N = float (input('Enter number of months remaining: '))\n",
    "R=R/(12*100)\n",
    "E = (p*R*((1+R)**N))/((1+R)**(N)-1)\n",
    "total_interest = 0\n",
    "print ('Your monthly EMI is:', E)\n",
    "print (\"Amortization\")\n",
    "#Amortization schedule.\n",
    "while (N>1):\n",
    "    N-=1\n",
    "    i=p*R\n",
    "    total_interest += i\n",
    "    pm=E-i\n",
    "    print(f'{int(N):>3}, \"your interest is:\" {round(i,2):>8.2f}, \"your principal is:\" {round(pm,2):>8.2f}')\n",
    "    p-=pm\n",
    "print(f'Total interest payable {total_interest:>8.2f}')\n"
   ]
  },
  {
   "cell_type": "code",
   "execution_count": 13,
   "metadata": {},
   "outputs": [
    {
     "name": "stdout",
     "output_type": "stream",
     "text": [
      "11 13 15 17 19 "
     ]
    }
   ],
   "source": [
    "def sequence(x):\n",
    "    y = 0\n",
    "    while y <= 9:\n",
    "        y += 1\n",
    "        x += 1\n",
    "        if y%2 == 0:\n",
    "            continue\n",
    "        print(f'{x}', end = ' ', sep = \"*\")\n",
    "    \n",
    "\n",
    "sequence(10)"
   ]
  },
  {
   "cell_type": "code",
   "execution_count": 117,
   "metadata": {},
   "outputs": [
    {
     "name": "stdout",
     "output_type": "stream",
     "text": [
      "p,r,a,s,h,a,n,t,h,"
     ]
    }
   ],
   "source": [
    "for i in \"prashanth\":\n",
    "    print(i, end=',')\n",
    "\n",
    "    "
   ]
  },
  {
   "cell_type": "code",
   "execution_count": 1,
   "metadata": {},
   "outputs": [
    {
     "name": "stdout",
     "output_type": "stream",
     "text": [
      "1*2*3*4*5\n"
     ]
    }
   ],
   "source": [
    "print(1,2,3,4,5, sep=\"*\")"
   ]
  },
  {
   "cell_type": "code",
   "execution_count": 2,
   "metadata": {},
   "outputs": [
    {
     "name": "stdout",
     "output_type": "stream",
     "text": [
      "Enter the name of the student: df\n",
      "Enter the Roll Number: 123\n",
      "Do you want to continue (Y/N)n\n"
     ]
    },
    {
     "ename": "TypeError",
     "evalue": "'dict' object is not callable",
     "output_type": "error",
     "traceback": [
      "\u001b[0;31m---------------------------------------------------------------------------\u001b[0m",
      "\u001b[0;31mTypeError\u001b[0m                                 Traceback (most recent call last)",
      "\u001b[0;32m<ipython-input-2-23508b4673f2>\u001b[0m in \u001b[0;36m<module>\u001b[0;34m\u001b[0m\n\u001b[1;32m      4\u001b[0m \u001b[0mroll_number\u001b[0m \u001b[0;34m=\u001b[0m \u001b[0minput\u001b[0m\u001b[0;34m(\u001b[0m\u001b[0;34m'Enter the Roll Number: '\u001b[0m\u001b[0;34m)\u001b[0m\u001b[0;34m\u001b[0m\u001b[0;34m\u001b[0m\u001b[0m\n\u001b[1;32m      5\u001b[0m \u001b[0mx\u001b[0m \u001b[0;34m=\u001b[0m \u001b[0minput\u001b[0m\u001b[0;34m(\u001b[0m\u001b[0;34m'Do you want to continue (Y/N)'\u001b[0m\u001b[0;34m)\u001b[0m\u001b[0;34m\u001b[0m\u001b[0;34m\u001b[0m\u001b[0m\n\u001b[0;32m----> 6\u001b[0;31m \u001b[0mstudent_directory\u001b[0m\u001b[0;34m(\u001b[0m\u001b[0mname\u001b[0m \u001b[0;34m=\u001b[0m \u001b[0mname\u001b[0m\u001b[0;34m,\u001b[0m \u001b[0mroll_number\u001b[0m \u001b[0;34m=\u001b[0m \u001b[0mroll_number\u001b[0m\u001b[0;34m)\u001b[0m\u001b[0;34m\u001b[0m\u001b[0;34m\u001b[0m\u001b[0m\n\u001b[0m\u001b[1;32m      7\u001b[0m \u001b[0mstudent_list\u001b[0m\u001b[0;34m.\u001b[0m\u001b[0mappend\u001b[0m\u001b[0;34m(\u001b[0m\u001b[0mstudent_directory\u001b[0m\u001b[0;34m)\u001b[0m\u001b[0;34m\u001b[0m\u001b[0;34m\u001b[0m\u001b[0m\n\u001b[1;32m      8\u001b[0m \u001b[0;32mwhile\u001b[0m \u001b[0mx\u001b[0m \u001b[0;34m==\u001b[0m \u001b[0;34m'y'\u001b[0m\u001b[0;34m:\u001b[0m\u001b[0;34m\u001b[0m\u001b[0;34m\u001b[0m\u001b[0m\n",
      "\u001b[0;31mTypeError\u001b[0m: 'dict' object is not callable"
     ]
    }
   ],
   "source": [
    "student_list = []\n",
    "student_directory = {}\n",
    "name = input('Enter the name of the student: ')\n",
    "roll_number = input('Enter the Roll Number: ')\n",
    "x = input('Do you want to continue (Y/N)')\n",
    "student_directory(name = name, roll_number = roll_number)\n",
    "student_list.append(student_directory)\n",
    "while x == 'y':\n",
    "    continue\n",
    "\n",
    "print(student_directory)\n",
    "        \n"
   ]
  },
  {
   "cell_type": "code",
   "execution_count": null,
   "metadata": {},
   "outputs": [],
   "source": []
  }
 ],
 "metadata": {
  "kernelspec": {
   "display_name": "Python 3",
   "language": "python",
   "name": "python3"
  },
  "language_info": {
   "codemirror_mode": {
    "name": "ipython",
    "version": 3
   },
   "file_extension": ".py",
   "mimetype": "text/x-python",
   "name": "python",
   "nbconvert_exporter": "python",
   "pygments_lexer": "ipython3",
   "version": "3.8.3"
  }
 },
 "nbformat": 4,
 "nbformat_minor": 4
}
